{
 "cells": [
  {
   "cell_type": "markdown",
   "metadata": {},
   "source": [
    "# Neural network - simple intro\n",
    "\n",
    "### Initialisation"
   ]
  },
  {
   "cell_type": "code",
   "execution_count": 1,
   "metadata": {
    "collapsed": true
   },
   "outputs": [],
   "source": [
    "%matplotlib inline\n",
    "import numpy as np\n",
    "import pandas as pd\n",
    "import matplotlib.pyplot as plot\n",
    "\n",
    "from sklearn.datasets import load_breast_cancer\n",
    "from sklearn.model_selection import train_test_split\n",
    "from sklearn import preprocessing"
   ]
  },
  {
   "cell_type": "markdown",
   "metadata": {},
   "source": [
    "### Load data"
   ]
  },
  {
   "cell_type": "code",
   "execution_count": 2,
   "metadata": {
    "collapsed": true
   },
   "outputs": [],
   "source": [
    "breast_cancer_dataset = load_breast_cancer()\n",
    "\n",
    "m_total = len(breast_cancer_dataset.target)\n",
    "\n",
    "Y = breast_cancer_dataset.target.reshape(m_total, 1)\n",
    "X = breast_cancer_dataset.data[:,np.r_[0:10]]\n",
    "X_scaled = preprocessing.scale(X)\n",
    "\n",
    "X_train, X_test, y_train, y_test = train_test_split(X_scaled, Y, test_size=0.3)\n",
    "X_train, X_test, y_train, y_test = X_train.T, X_test.T, y_train.T, y_test.T "
   ]
  },
  {
   "cell_type": "markdown",
   "metadata": {},
   "source": [
    "### 2 Layer - NN"
   ]
  },
  {
   "cell_type": "code",
   "execution_count": 3,
   "metadata": {
    "collapsed": true
   },
   "outputs": [],
   "source": [
    "def init_params(layer_current, layer_previous):\n",
    "    W = np.random.randn(layer_current, layer_previous)\n",
    "    b = np.zeros((layer_current, 1), dtype=np.float32)\n",
    "    return (W, b)"
   ]
  },
  {
   "cell_type": "code",
   "execution_count": 4,
   "metadata": {
    "collapsed": true
   },
   "outputs": [],
   "source": [
    "def feed_forward(prevA, W, b):\n",
    "    return np.dot(W, prevA) + b\n",
    "    \n",
    "def sigmoid(Z):\n",
    "    return (1/(1 + np.exp(-Z)))\n",
    "    \n",
    "def LeakyRelu(Z, leak_gradient=0.05):\n",
    "    return np.maximum(leak_gradient * Z, Z)\n",
    "    "
   ]
  },
  {
   "cell_type": "code",
   "execution_count": 5,
   "metadata": {
    "collapsed": true
   },
   "outputs": [],
   "source": [
    "def reLu_deriv(Z1, leak_gradient=0.05):\n",
    "    Z1[Z1>0] = 1\n",
    "    Z1[Z1<0] = leak_gradient\n",
    "    return Z1\n",
    "\n",
    "def feed_backward(params, cache, X, Y):\n",
    "    m = Y.shape[1]\n",
    "    W1, W2 = params['W1'], params['W2']\n",
    "    b1, b2 = params['b1'], params['b2']\n",
    "    \n",
    "    A1, A2, Z1 = cache['A1'], cache['A2'], cache['Z1']\n",
    "    \n",
    "    dZ2 = A2 - Y\n",
    "    dW2 = (1/m)*(np.dot(dZ2, A1.T))\n",
    "    db2 = (1/m)*np.sum(dZ2, axis=1, keepdims=True)\n",
    "    \n",
    "    dZ1 = np.multiply(np.dot(W2.T, dZ2), reLu_deriv(Z1))\n",
    "    dW1 = (1/m)*np.dot(dZ1, X.T)\n",
    "    db1 = (1/m)*np.sum(dZ1, axis=1, keepdims=True)\n",
    "    \n",
    "    grads = {\n",
    "        \"dW1\": dW1,\n",
    "        \"db1\": db1,\n",
    "        \"dW2\": dW2,\n",
    "        \"db2\": db2\n",
    "    }\n",
    "    \n",
    "    return grads"
   ]
  },
  {
   "cell_type": "code",
   "execution_count": 6,
   "metadata": {
    "collapsed": true
   },
   "outputs": [],
   "source": [
    "def update_parameters(params, grads, learning_rate):\n",
    "    return {\n",
    "        \"W1\": params['W1'] - learning_rate * grads[\"dW1\"],\n",
    "        \"W2\": params['W2'] - learning_rate * grads[\"dW2\"],\n",
    "        \"b1\": params['b1'] - learning_rate * grads[\"db1\"],\n",
    "        \"b2\": params['b2'] - learning_rate * grads[\"db2\"]\n",
    "    }"
   ]
  },
  {
   "cell_type": "code",
   "execution_count": 7,
   "metadata": {
    "collapsed": true
   },
   "outputs": [],
   "source": [
    "def compute_cost(Y, Af):\n",
    "    m = Y.shape[1]\n",
    "    logprobs = np.multiply(Y, np.log(Af)) + np.multiply((1 - Y), np.log(1 -Af))\n",
    "    return -np.sum(logprobs)/m"
   ]
  },
  {
   "cell_type": "code",
   "execution_count": 8,
   "metadata": {
    "collapsed": true
   },
   "outputs": [],
   "source": [
    "def Model(X, Y, layer_dims, learning_rate=0.01, num_iterations=100, debug=False):\n",
    "    parameters = {}\n",
    "    parameters[\"W1\"], parameters[\"b1\"] = init_params(layer_dims[0], X.shape[0])\n",
    "    if debug: print(\"W1 shape : \",parameters[\"W1\"].shape)\n",
    "\n",
    "    parameters[\"W2\"], parameters[\"b2\"] = init_params(layer_dims[1],layer_dims[0])\n",
    "    if debug: print(\"W2 shape : \",parameters[\"W2\"].shape)\n",
    "        \n",
    "    costs = []\n",
    "        \n",
    "    for i in range(num_iterations):\n",
    "        if debug and i%100 is 0: print(\"Iteration \",i)\n",
    "        Z1 = feed_forward(X, parameters[\"W1\"], parameters[\"b1\"])\n",
    "        A1 = LeakyRelu(Z1)\n",
    "\n",
    "        Z2 = feed_forward(A1, parameters[\"W2\"], parameters[\"b2\"])\n",
    "        A2 = sigmoid(Z2)\n",
    "        \n",
    "        cache = {\n",
    "            \"Z1\": Z1,\n",
    "            \"A1\": A1,\n",
    "            \"Z2\": Z2,\n",
    "            \"A2\": A2\n",
    "        }\n",
    "        \n",
    "        cost = compute_cost(Y, A2)\n",
    "\n",
    "        if debug and i%100 is 0: \n",
    "            costs.append(cost)\n",
    "            print(cost)\n",
    "\n",
    "        grads = feed_backward(parameters, cache, X, Y)\n",
    "        parameters = update_parameters(parameters, grads, learning_rate)\n",
    "    \n",
    "    print('Model trained !')\n",
    "    return parameters, costs"
   ]
  },
  {
   "cell_type": "code",
   "execution_count": 9,
   "metadata": {
    "collapsed": true
   },
   "outputs": [],
   "source": [
    "def predict(parameters, X):\n",
    "    Z1 = feed_forward(X, parameters[\"W1\"], parameters[\"b1\"])\n",
    "    A1 = LeakyRelu(Z1)\n",
    "\n",
    "    Z2 = feed_forward(A1, parameters[\"W2\"], parameters[\"b2\"])\n",
    "    A2 = sigmoid(Z2)\n",
    "    \n",
    "    predictions = np.round(A2)\n",
    "    return predictions"
   ]
  },
  {
   "cell_type": "markdown",
   "metadata": {},
   "source": [
    "### Prediction & conclusion"
   ]
  },
  {
   "cell_type": "code",
   "execution_count": 10,
   "metadata": {},
   "outputs": [
    {
     "name": "stdout",
     "output_type": "stream",
     "text": [
      "W1 shape :  (12, 10)\n",
      "W2 shape :  (1, 12)\n",
      "Iteration  0\n",
      "0.668289584879\n",
      "Iteration  100\n",
      "0.27934555263\n",
      "Iteration  200\n",
      "0.201031323995\n",
      "Iteration  300\n",
      "0.168756917817\n",
      "Iteration  400\n",
      "0.150981122857\n",
      "Iteration  500\n",
      "0.139559015698\n",
      "Iteration  600\n",
      "0.130247038152\n",
      "Iteration  700\n",
      "0.123407440794\n",
      "Iteration  800\n",
      "0.118179084571\n",
      "Iteration  900\n",
      "0.113896060553\n",
      "Model trained !\n",
      "Accuracy: 95%\n",
      "[0.66828958487883294, 0.27934555263035032, 0.20103132399512189, 0.16875691781730523, 0.15098112285716495, 0.13955901569755161, 0.130247038151515, 0.12340744079409793, 0.11817908457148062, 0.11389606055302169]\n"
     ]
    },
    {
     "data": {
      "image/png": "[encoded data removed]",
      "text/plain": [
       "<matplotlib.figure.Figure at 0x22d57ee35f8>"
      ]
     },
     "metadata": {},
     "output_type": "display_data"
    }
   ],
   "source": [
    "model_params, costs = Model(X_train, y_train,[12, 1], num_iterations=1000, debug=True, learning_rate=0.025)\n",
    "predictions = predict(model_params, X_test)\n",
    "print ('Accuracy: %d' % float((np.dot(y_test, predictions.T) + np.dot(1 - y_test, 1 - predictions.T)) / float(y_test.size) * 100) + '%')\n",
    "print(costs)\n",
    "pl = plot.plot(range(0, 10),costs)"
   ]
  }
 ],
 "metadata": {
  "kernelspec": {
   "display_name": "Python 3",
   "language": "python",
   "name": "python3"
  },
  "language_info": {
   "codemirror_mode": {
    "name": "ipython",
    "version": 3
   },
   "file_extension": ".py",
   "mimetype": "text/x-python",
   "name": "python",
   "nbconvert_exporter": "python",
   "pygments_lexer": "ipython3",
   "version": "3.6.0"
  }
 },
 "nbformat": 4,
 "nbformat_minor": 2
}
