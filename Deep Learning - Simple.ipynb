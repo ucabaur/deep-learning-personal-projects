{
 "cells": [
  {
   "cell_type": "code",
   "execution_count": 1,
   "metadata": {
    "collapsed": true
   },
   "outputs": [],
   "source": [
    "%matplotlib inline\n",
    "import numpy as np\n",
    "import pandas as pd\n",
    "import matplotlib.pyplot as plot\n",
    "\n",
    "from sklearn.datasets import load_breast_cancer\n",
    "from sklearn.model_selection import train_test_split\n",
    "from sklearn import preprocessing"
   ]
  },
  {
   "cell_type": "code",
   "execution_count": 2,
   "metadata": {
    "collapsed": true
   },
   "outputs": [],
   "source": [
    "breast_cancer_dataset = load_breast_cancer()\n",
    "\n",
    "m_total = len(breast_cancer_dataset.target)\n",
    "\n",
    "Y = breast_cancer_dataset.target.reshape(m_total, 1)\n",
    "X = breast_cancer_dataset.data[:,np.r_[0:10]]\n",
    "X_scaled = preprocessing.scale(X)\n",
    "\n",
    "X_train, X_test, y_train, y_test = train_test_split(X_scaled, Y, test_size=0.1)\n",
    "X_train, X_test, y_train, y_test = X_train.T, X_test.T, y_train.T, y_test.T "
   ]
  },
  {
   "cell_type": "code",
   "execution_count": 3,
   "metadata": {
    "collapsed": true
   },
   "outputs": [],
   "source": [
    "def init_params(layer_dims):\n",
    "    params = {}\n",
    "    np.random.seed(42)\n",
    "\n",
    "    for i in range(1, len(layer_dims)):\n",
    "        prev_layer_dims, current_layer_dims = layer_dims[i-1], layer_dims[i]\n",
    "        params[\"W\" + str(i)] = np.random.randn(current_layer_dims, prev_layer_dims) * 0.01\n",
    "        params[\"b\" + str(i)] = np.zeros((current_layer_dims, 1))\n",
    "    return params"
   ]
  },
  {
   "cell_type": "code",
   "execution_count": 13,
   "metadata": {},
   "outputs": [],
   "source": [
    "def relu_generator(base_leak):\n",
    "    def relu(Z):\n",
    "        return np.maximum(Z * base_leak, Z)\n",
    "    return relu\n",
    "\n",
    "def sigmoid(Z):\n",
    "    return (1/(1 + np.exp(-Z)))\n",
    "\n",
    "activation_index = {\n",
    "    \"sigmoid\": sigmoid,\n",
    "    \"straigth_relu\": relu_generator(0),\n",
    "    \"leaky_relu\": relu_generator(0.04),\n",
    "    \"aggressive_relu\": relu_generator(0.1)\n",
    "}\n",
    "\n",
    "def feed_forward_pass(prevA, W, b):\n",
    "    Z = np.dot(W, prevA) + b\n",
    "\n",
    "    assert(Z.shape == (W.shape[0], prevA.shape[1]))\n",
    "    cache = (prevA, W, b)\n",
    "\n",
    "    return Z, cache\n",
    "\n",
    "def feed_forward_activate(prevA, W, b, activation_func):\n",
    "    Z, linear_cache = feed_forward_pass(prevA, W, b)\n",
    "    A = activation_index[activation_func](Z)\n",
    "    \n",
    "    assert (A.shape == (W.shape[0], prevA.shape[1]))\n",
    "\n",
    "    return A, linear_cache"
   ]
  },
  {
   "cell_type": "code",
   "execution_count": 22,
   "metadata": {
    "collapsed": true
   },
   "outputs": [],
   "source": [
    "def compute_cost(Y, Af):\n",
    "    m = Y.shape[1]\n",
    "    logprobs = np.multiply(Y, np.log(Af)) + np.multiply((1 - Y), np.log(1 -Af))\n",
    "    return -np.sum(logprobs)/m"
   ]
  },
  {
   "cell_type": "code",
   "execution_count": null,
   "metadata": {
    "collapsed": true
   },
   "outputs": [],
   "source": [
    "def relu_deriv_generator(base_leak):\n",
    "    def relu_deriv(Z):\n",
    "        Z[Z>0] = 1\n",
    "        Z[Z<0] = base_leak\n",
    "        return Z\n",
    "    return relu_deriv\n",
    "\n",
    "derivation_index = {\n",
    "    \"straigth_relu\": relu_deriv_generator(0),\n",
    "    \"leaky_relu\": relu_deriv_generator(0.04),\n",
    "    \"aggressive_relu\": relu_deriv_generator(0.1)\n",
    "}\n",
    "\n",
    "def feed_backward(params, cache, X, Y):\n",
    "    return Y"
   ]
  },
  {
   "cell_type": "code",
   "execution_count": 23,
   "metadata": {},
   "outputs": [],
   "source": [
    "def Deep_Model(X, Y, layer_dims, layer_types, learning_rate=0.01, num_iterations=100, debug=False):\n",
    "    params = init_params(layer_dims)\n",
    "    A = X\n",
    "    for L in range(1, len(layer_dims)):\n",
    "        prevA = A\n",
    "        A, cache = feed_forward_activate(\n",
    "            prevA,\n",
    "            params[\"W\" + str(L)],\n",
    "            params[\"b\" + str(L)],\n",
    "            layer_types[L]\n",
    "        )\n",
    "    cost = compute_cost(Y, A)\n",
    "    print(cost)\n",
    "    return False"
   ]
  },
  {
   "cell_type": "code",
   "execution_count": 24,
   "metadata": {},
   "outputs": [
    {
     "name": "stdout",
     "output_type": "stream",
     "text": [
      "0.693146931042\n"
     ]
    },
    {
     "data": {
      "text/plain": [
       "False"
      ]
     },
     "execution_count": 24,
     "metadata": {},
     "output_type": "execute_result"
    }
   ],
   "source": [
    "layer_dims = [\n",
    "    X_train.shape[0],\n",
    "    8,\n",
    "    2,\n",
    "    1\n",
    "]\n",
    "\n",
    "layer_types = [\n",
    "    \"input\",\n",
    "    \"leaky_relu\",\n",
    "    \"straigth_relu\",\n",
    "    \"sigmoid\"\n",
    "]\n",
    "\n",
    "Deep_Model(X_train, y_train, layer_dims, layer_types)"
   ]
  }
 ],
 "metadata": {
  "kernelspec": {
   "display_name": "Python 3",
   "language": "python",
   "name": "python3"
  },
  "language_info": {
   "codemirror_mode": {
    "name": "ipython",
    "version": 3
   },
   "file_extension": ".py",
   "mimetype": "text/x-python",
   "name": "python",
   "nbconvert_exporter": "python",
   "pygments_lexer": "ipython3",
   "version": "3.6.0"
  }
 },
 "nbformat": 4,
 "nbformat_minor": 2
}
