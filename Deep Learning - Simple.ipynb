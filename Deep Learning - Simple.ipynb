{
 "cells": [
  {
   "cell_type": "code",
   "execution_count": 1,
   "metadata": {
    "collapsed": true
   },
   "outputs": [],
   "source": [
    "%matplotlib inline\n",
    "import numpy as np\n",
    "import pandas as pd\n",
    "import matplotlib.pyplot as plot\n",
    "\n",
    "from sklearn.datasets import load_breast_cancer\n",
    "from sklearn.model_selection import train_test_split\n",
    "from sklearn import preprocessing"
   ]
  },
  {
   "cell_type": "code",
   "execution_count": 2,
   "metadata": {
    "collapsed": true
   },
   "outputs": [],
   "source": [
    "breast_cancer_dataset = load_breast_cancer()\n",
    "\n",
    "m_total = len(breast_cancer_dataset.target)\n",
    "\n",
    "Y = breast_cancer_dataset.target.reshape(m_total, 1)\n",
    "X = breast_cancer_dataset.data[:,np.r_[0:10]]\n",
    "X_scaled = preprocessing.scale(X)\n",
    "\n",
    "X_train, X_test, y_train, y_test = train_test_split(X_scaled, Y, test_size=0.1)\n",
    "X_train, X_test, y_train, y_test = X_train.T, X_test.T, y_train.T, y_test.T "
   ]
  },
  {
   "cell_type": "code",
   "execution_count": 3,
   "metadata": {
    "collapsed": true
   },
   "outputs": [],
   "source": [
    "def init_params(layer_dims):\n",
    "    params = {}\n",
    "    np.random.seed(42)\n",
    "\n",
    "    for i in range(1, len(layer_dims)):\n",
    "        prev_layer_dims, current_layer_dims = layer_dims[i-1], layer_dims[i]\n",
    "        params[\"W\" + str(i)] = np.random.randn(current_layer_dims, prev_layer_dims) * 0.01\n",
    "        params[\"b\" + str(i)] = np.zeros((current_layer_dims, 1))\n",
    "    return params"
   ]
  },
  {
   "cell_type": "code",
   "execution_count": 4,
   "metadata": {
    "collapsed": true
   },
   "outputs": [],
   "source": [
    "def relu_generator(base_leak):\n",
    "    def relu(Z):\n",
    "        return np.maximum(Z * base_leak, Z)\n",
    "    return relu\n",
    "\n",
    "def sigmoid(Z):\n",
    "    return (1/(1 + np.exp(-Z)))\n",
    "\n",
    "activation_index = {\n",
    "    \"sigmoid\": sigmoid,\n",
    "    \"straigth_relu\": relu_generator(0),\n",
    "    \"leaky_relu\": relu_generator(0.04),\n",
    "    \"aggressive_relu\": relu_generator(0.1)\n",
    "}\n",
    "\n",
    "def feed_forward_pass(prevA, W, b):\n",
    "    Z = np.dot(W, prevA) + b\n",
    "    assert(Z.shape == (W.shape[0], prevA.shape[1]))\n",
    "    return Z\n",
    "\n",
    "def feed_forward_activate(prevA, W, b, activation_func):\n",
    "    Z = feed_forward_pass(prevA, W, b)\n",
    "    A = activation_index[activation_func](Z)\n",
    "    \n",
    "    assert (A.shape == (W.shape[0], prevA.shape[1]))\n",
    "    return A, Z, W, b"
   ]
  },
  {
   "cell_type": "code",
   "execution_count": 5,
   "metadata": {
    "collapsed": true
   },
   "outputs": [],
   "source": [
    "def compute_cost(Y, Af):\n",
    "    m = Y.shape[1]\n",
    "    logprobs = np.multiply(Y, np.log(Af)) + np.multiply((1 - Y), np.log(1 -Af))\n",
    "    return -np.sum(logprobs)/m"
   ]
  },
  {
   "cell_type": "code",
   "execution_count": 6,
   "metadata": {
    "collapsed": true
   },
   "outputs": [],
   "source": [
    "def relu_deriv_generator(base_leak):\n",
    "    def relu_deriv(Z):\n",
    "        Z[Z>0] = 1\n",
    "        Z[Z<0] = base_leak\n",
    "        return Z\n",
    "    return relu_deriv\n",
    "\n",
    "def deriv_sigmoid(Z):\n",
    "    return sigmoid(Z) * (1 - sigmoid(Z))\n",
    "\n",
    "derivation_index = {\n",
    "    \"sigmoid\": deriv_sigmoid,\n",
    "    \"straigth_relu\": relu_deriv_generator(0),\n",
    "    \"leaky_relu\": relu_deriv_generator(0.04),\n",
    "    \"aggressive_relu\": relu_deriv_generator(0.1)\n",
    "}\n",
    "\n",
    "def backward_propagate(dA, prevA, layer_cache, activation_func, m):\n",
    "    Z, W = layer_cache[\"Z\"], layer_cache[\"W\"]\n",
    "    activation_derivation = derivation_index[activation_func](Z)\n",
    "    dZ = np.multiply(dA, activation_derivation)\n",
    "\n",
    "    dW = (1/m)*np.dot(dZ, prevA.T)\n",
    "    db = (1/m)*np.sum(dZ, axis=1, keepdims=True)\n",
    "    prevdA = np.dot(W.T, dZ)\n",
    "    \n",
    "    return prevdA, dW, db\n",
    "\n",
    "def update_params(params, grads, learning_rate, number_of_layers):\n",
    "    for L in range(1, number_of_layers):\n",
    "        params[\"W\"+str(L)] -= learning_rate * grads[\"dW\"+str(L)]\n",
    "        params[\"b\"+str(L)] -= learning_rate * grads[\"db\"+str(L)]\n",
    "    return params\n",
    "      "
   ]
  },
  {
   "cell_type": "code",
   "execution_count": 9,
   "metadata": {},
   "outputs": [],
   "source": [
    "def Deep_Model(X, Y, layer_dims, layer_types, learning_rate=0.0001, num_iterations=10000, debug=False):\n",
    "    print('--------Model Init--------')\n",
    "    ## Param initialisation\n",
    "    params = init_params(layer_dims)\n",
    "    costs = []\n",
    "\n",
    "    ## Iteration initialisation\n",
    "    for i in range(num_iterations):\n",
    "        caches={}\n",
    "        caches[\"0\"] = {}\n",
    "        caches[\"0\"][\"A\"] = X\n",
    "        \n",
    "        A = X\n",
    "\n",
    "        ## Forward propagation\n",
    "        for L in range(1, len(layer_dims)):\n",
    "            prevA = A\n",
    "            A, Z, W, b = feed_forward_activate(\n",
    "                prevA,\n",
    "                params[\"W\" + str(L)],\n",
    "                params[\"b\" + str(L)],\n",
    "                layer_types[L]\n",
    "            )\n",
    "            caches[str(L)] = {}\n",
    "            caches[str(L)][\"W\"] = W\n",
    "            caches[str(L)][\"b\"] = b\n",
    "            caches[str(L)][\"A\"] = A\n",
    "            caches[str(L)][\"Z\"] = Z\n",
    "            \n",
    "        ## Compute cost\n",
    "        cost = compute_cost(Y, A)\n",
    "        costs.append(cost)\n",
    "        \n",
    "        if debug and i%1000 is 0: print(i, \" : \", cost)\n",
    "        \n",
    "        ## Backward propagation\n",
    "        grads = {}\n",
    "        m = Y.shape[1]\n",
    "\n",
    "        AL = caches[str(len(layer_dims)-1)][\"A\"]\n",
    "        dAL = -(np.divide(Y, AL) + np.divide(1 - Y, 1 - AL))\n",
    "        dA = dAL\n",
    "\n",
    "        for L in list(reversed(range(1, len(layer_dims)))):\n",
    "            activation_func = layer_types[L]\n",
    "            layer_cache = caches[str(L)]\n",
    "            prevA = caches[str(L-1)][\"A\"]\n",
    "\n",
    "            prevdA, dW, db = backward_propagate(dA, prevA, layer_cache, activation_func, m)\n",
    "\n",
    "            grads[\"dW\" + str(L)] = dW\n",
    "            grads[\"db\" + str(L)] = db\n",
    "\n",
    "            dA = prevdA\n",
    "    \n",
    "        ## Update parameters\n",
    "        params = update_params(params, grads, learning_rate, len(layer_dims))\n",
    "    \n",
    "    print('--------Model trained--------')\n",
    "    return params, costs"
   ]
  },
  {
   "cell_type": "code",
   "execution_count": 11,
   "metadata": {},
   "outputs": [
    {
     "name": "stdout",
     "output_type": "stream",
     "text": [
      "--------Model Init--------\n",
      "0  :  0.693362836667\n",
      "1000  :  0.686837654298\n",
      "2000  :  0.680978122794\n",
      "3000  :  0.675770340058\n",
      "4000  :  0.67119987507\n",
      "5000  :  0.667252230364\n",
      "6000  :  0.663912126323\n",
      "7000  :  0.661164407493\n",
      "8000  :  0.658993942711\n",
      "9000  :  0.657385947779\n",
      "--------Model trained--------\n"
     ]
    }
   ],
   "source": [
    "layer_dims = [\n",
    "    X_train.shape[0],\n",
    "    12,\n",
    "    1\n",
    "]\n",
    "\n",
    "layer_types = [\n",
    "    \"input\",\n",
    "    \"leaky_relu\",\n",
    "    \"sigmoid\"\n",
    "]\n",
    "\n",
    "params, costs = Deep_Model(X_train, y_train, layer_dims, layer_types, debug = True)"
   ]
  },
  {
   "cell_type": "code",
   "execution_count": null,
   "metadata": {
    "collapsed": true
   },
   "outputs": [],
   "source": []
  }
 ],
 "metadata": {
  "kernelspec": {
   "display_name": "Python 3",
   "language": "python",
   "name": "python3"
  },
  "language_info": {
   "codemirror_mode": {
    "name": "ipython",
    "version": 3
   },
   "file_extension": ".py",
   "mimetype": "text/x-python",
   "name": "python",
   "nbconvert_exporter": "python",
   "pygments_lexer": "ipython3",
   "version": "3.5.2"
  }
 },
 "nbformat": 4,
 "nbformat_minor": 2
}
